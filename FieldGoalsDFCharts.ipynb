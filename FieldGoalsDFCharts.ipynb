{
 "cells": [
  {
   "cell_type": "code",
   "execution_count": 1,
   "metadata": {},
   "outputs": [],
   "source": [
    "#Import modules\n",
    "import matplotlib.pyplot as plt\n",
    "import numpy as np\n",
    "import pandas as pd\n",
    "import matplotlib.ticker as plticker\n"
   ]
  },
  {
   "cell_type": "code",
   "execution_count": 2,
   "metadata": {},
   "outputs": [
    {
     "data": {
      "text/plain": [
       "Index(['Game ID', 'Week', 'Date', 'Time (EST)', 'Location', 'Home Team',\n",
       "       'Away Team', 'Home Score', 'Away Score', 'Total Points',\n",
       "       'Home Total Yards', 'Away Total Yards', 'Total Yards',\n",
       "       'Home Rushing Attempts', 'Home Rushing Yards', 'Home Longest Rush',\n",
       "       'Home Rushing TDs', 'Home Fumbles', 'Home Pass Attempts',\n",
       "       'Home Pass Completions', 'Home Passing Yards', 'Home Longest Pass',\n",
       "       'Home QB Rating', 'Home Passing TDs', 'Home Interceptions',\n",
       "       'Home First Downs', 'Home Punts', 'Home FG Attempts', 'Home FG Made',\n",
       "       'Home FG Pct', 'Home FG Att 1-19', 'Home FG Made 1-19',\n",
       "       'Home FG Pct 1-19', 'Home FG Att 20-29', 'Home FG Made 20-29',\n",
       "       'Home FG Pct 20-29', 'Home FG Att 30-39', 'Home FG Made 30-39',\n",
       "       'Home FG Pct 30-39', 'Home FG Att 40-49', 'Home FG Made 40-49',\n",
       "       'Home FG Pct 40-49', 'Home FG Att 50+', 'Home FG Made 50+',\n",
       "       'Home FG Pct 50+', 'Away Rushing Attempts', 'Away Rushing Yards',\n",
       "       'Away Longest Rush', 'Away Rushing TDs', 'Away Fumbles',\n",
       "       'Away Pass Attempts', 'Away Pass Completions', 'Away Passing Yards',\n",
       "       'Away Longest Pass', 'Away QB Rating', 'Away Passing TDs',\n",
       "       'Away Interceptions', 'Away Punts', 'Away First Downs',\n",
       "       'Away FG Attempts', 'Away FG Made', 'Away FG Pct', 'Away FG Att 1-19',\n",
       "       'Away FG Made 1-19', 'Away FG Pct 1-19', 'Away FG Att 20-29',\n",
       "       'Away FG Made 20-29', 'Away FG Pct 20-29', 'Away FG Att 30-39',\n",
       "       'Away FG Made 30-39', 'Away FG Pct 30-39', 'Away FG Att 40-49',\n",
       "       'Away FG Made 40-49', 'Away FG Pct 40-49', 'Away FG Att 50+',\n",
       "       'Away FG Made 50+', 'Away FG Pct 50+', 'Summary', 'Precip Intensity',\n",
       "       'Precip Probability', 'Precip Type', 'Temp', 'Apparent Temp',\n",
       "       'Humidity', 'Wind Speed', 'Wind Gust', 'Cloud Cover', 'UV Index',\n",
       "       'Visibility', 'Indoor'],\n",
       "      dtype='object')"
      ]
     },
     "execution_count": 2,
     "metadata": {},
     "output_type": "execute_result"
    }
   ],
   "source": [
    "#Read csv into pandas\n",
    "\n",
    "dfpath = \"MasterDataframe.csv\"\n",
    "\n",
    "master_df = pd.read_csv(dfpath)\n",
    "\n",
    "master_df.columns"
   ]
  },
  {
   "cell_type": "code",
   "execution_count": 22,
   "metadata": {
    "scrolled": true
   },
   "outputs": [
    {
     "data": {
      "image/png": "[encoded data removed]",
      "text/plain": [
       "<Figure size 432x288 with 1 Axes>"
      ]
     },
     "metadata": {
      "needs_background": "light"
     },
     "output_type": "display_data"
    }
   ],
   "source": [
    "fieldgoals_df = master_df[[\"Game ID\", \"Week\", \"Home FG Pct\", \"Away FG Pct\", \"Home Punts\", \"Away Punts\", \"Wind Speed\", \"Wind Gust\", \"Apparent Temp\"]]\n",
    "\n",
    "master_df[\"Total FG Made\"] = master_df[\"Home FG Made\"] + master_df[\"Away FG Made\"]\n",
    "master_df[\"Total FG Attempts\"] = master_df[\"Home FG Attempts\"] + master_df[\"Away FG Attempts\"]\n",
    "master_df[\"Total FG Pct\"] = master_df[\"Total FG Made\"] / master_df[\"Total FG Attempts\"]\n",
    "master_df[\"Total FG Att 1-19\"] = master_df[\"Home FG Att 1-19\"] + master_df[\"Away FG Att 1-19\"]\n",
    "master_df[\"Total FG Att 20-29\"] = master_df[\"Home FG Att 20-29\"] + master_df[\"Away FG Att 20-29\"]\n",
    "master_df[\"Total FG Att 30-39\"] = master_df[\"Home FG Att 30-39\"] + master_df[\"Away FG Att 30-39\"]\n",
    "master_df[\"Total FG Att 40-49\"] = master_df[\"Home FG Att 40-49\"] + master_df[\"Away FG Att 40-49\"]\n",
    "master_df[\"Total FG Att 50+\"] = master_df[\"Home FG Att 50+\"] + master_df[\"Away FG Att 50+\"]\n",
    "master_df[\"Total FG Made 1-19\"] = master_df[\"Home FG Made 1-19\"] + master_df[\"Away FG Made 1-19\"]\n",
    "master_df[\"Total FG Made 20-29\"] = master_df[\"Home FG Made 20-29\"] + master_df[\"Away FG Made 20-29\"]\n",
    "master_df[\"Total FG Made 30-39\"] = master_df[\"Home FG Made 30-39\"] + master_df[\"Away FG Made 30-39\"]\n",
    "master_df[\"Total FG Made 40-49\"] = master_df[\"Home FG Made 40-49\"] + master_df[\"Away FG Made 40-49\"]\n",
    "master_df[\"Total FG Made 50+\"] = master_df[\"Home FG Made 50+\"] + master_df[\"Away FG Made 50+\"]\n",
    "master_df[\"Total FG Pct 1-19\"] = master_df[\"Total FG Made 1-19\"] / master_df[\"Total FG Att 1-19\"]\n",
    "master_df[\"Total FG Pct 20-29\"] = master_df[\"Total FG Made 20-29\"] / master_df[\"Total FG Att 20-29\"]\n",
    "master_df[\"Total FG Pct 30-39\"] = master_df[\"Total FG Made 30-39\"] / master_df[\"Total FG Att 30-39\"]\n",
    "master_df[\"Total FG Pct 40-49\"] = master_df[\"Total FG Made 40-49\"] / master_df[\"Total FG Att 40-49\"]\n",
    "master_df[\"Total FG Pct 50+\"] = master_df[\"Total FG Made 50+\"] / master_df[\"Total FG Att 50+\"]\n",
    "master_df[\"Total Run Pass Ratio\"] = (master_df[\"Home Rushing Attempts\"] + master_df[\"Away Rushing Attempts\"])/ ((master_df[\"Home Rushing Attempts\"] + master_df[\"Home Pass Attempts\"]) + master_df[\"Away Rushing Attempts\"] + master_df[\"Away Pass Attempts\"])\n",
    "outdoor_df = master_df[master_df[\"Indoor\"] == False]\n",
    "indoor_df = master_df[master_df[\"Indoor\"] == True]\n",
    "\n",
    "\n",
    "Total_FG_Pct = outdoor_df[\"Total FG Pct\"]\n",
    "Wind_Gust = outdoor_df[\"Wind Gust\"]\n",
    "Home_Rushing_A = outdoor_df[\"Home Rushing Attempts\"]\n",
    "Away_Rushing_A = outdoor_df[\"Away Rushing Attempts\"]\n",
    "Home_Rushing_Y = outdoor_df[\"Home Rushing Yards\"]\n",
    "Away_Rushing_Y = outdoor_df[\"Away Rushing Yards\"]\n",
    "\n",
    "Total_RP_Ratio = outdoor_df[\"Total Run Pass Ratio\"]\n",
    "\n",
    "\n",
    "plt.scatter(Wind_Gust, Total_FG_Pct, marker=\"o\", facecolors=\"red\", edgecolors=\"black\",\n",
    "            s=None, alpha=0.75)\n",
    "xmarks = range(0, 40, 5)\n",
    "plt.xticks(xmarks)\n",
    "plt.show()"
   ]
  },
  {
   "cell_type": "code",
   "execution_count": 34,
   "metadata": {},
   "outputs": [
    {
     "data": {
      "image/png": "[encoded data removed]",
      "text/plain": [
       "<Figure size 432x288 with 1 Axes>"
      ]
     },
     "metadata": {
      "needs_background": "light"
     },
     "output_type": "display_data"
    }
   ],
   "source": [
    "#FG_att_1019 = outdoor_df[\"Total FG Att 1-19\"].sum()\n",
    "FG_att_2029 = outdoor_df[\"Total FG Att 20-29\"].sum()\n",
    "FG_att_3039 = outdoor_df[\"Total FG Att 30-39\"].sum()\n",
    "FG_att_4049 = outdoor_df[\"Total FG Att 40-49\"].sum()\n",
    "FG_att_50 = outdoor_df[\"Total FG Att 50+\"].sum()\n",
    "\n",
    "#FG_made_1019 = outdoor_df[\"Total FG Made 1-19\"].sum()\n",
    "FG_made_2029 = outdoor_df[\"Total FG Made 20-29\"].sum()\n",
    "FG_made_3039 = outdoor_df[\"Total FG Made 30-39\"].sum()\n",
    "FG_made_4049 = outdoor_df[\"Total FG Made 40-49\"].sum()\n",
    "FG_made_50 = outdoor_df[\"Total FG Made 50+\"].sum()\n",
    "\n",
    "#in_FG_att_1019 = indoor_df[\"Total FG Att 1-19\"].sum()\n",
    "in_FG_att_2029 = indoor_df[\"Total FG Att 20-29\"].sum()\n",
    "in_FG_att_3039 = indoor_df[\"Total FG Att 30-39\"].sum()\n",
    "in_FG_att_4049 = indoor_df[\"Total FG Att 40-49\"].sum()\n",
    "in_FG_att_50 = indoor_df[\"Total FG Att 50+\"].sum()\n",
    "\n",
    "#in_FG_made_1019 = indoor_df[\"Total FG Made 1-19\"].sum()\n",
    "in_FG_made_2029 = indoor_df[\"Total FG Made 20-29\"].sum()\n",
    "in_FG_made_3039 = indoor_df[\"Total FG Made 30-39\"].sum()\n",
    "in_FG_made_4049 = indoor_df[\"Total FG Made 40-49\"].sum()\n",
    "in_FG_made_50 = indoor_df[\"Total FG Made 50+\"].sum()\n",
    "\n",
    "#FG_pct_1019 = float(FG_made_1019 / FG_att_1019)\n",
    "FG_pct_2029 = float(FG_made_2029 / FG_att_2029)\n",
    "FG_pct_3039 = float(FG_made_3039 / FG_att_3039)\n",
    "FG_pct_4049 = float(FG_made_4049 / FG_att_4049)\n",
    "FG_pct_50 = float(FG_made_50 / FG_att_50)\n",
    "\n",
    "#in_FG_pct_1019 = float(in_FG_made_1019 / in_FG_att_1019)\n",
    "in_FG_pct_2029 = float(in_FG_made_2029 / in_FG_att_2029)\n",
    "in_FG_pct_3039 = float(in_FG_made_3039 / in_FG_att_3039)\n",
    "in_FG_pct_4049 = float(in_FG_made_4049 / in_FG_att_4049)\n",
    "in_FG_pct_50 = float(in_FG_made_50 / in_FG_att_50)\n",
    "\n",
    "FG_array_out = [FG_pct_2029, FG_pct_3039, FG_pct_4049, FG_pct_50]\n",
    "FG_array_in = [in_FG_pct_2029, in_FG_pct_3039, in_FG_pct_4049, in_FG_pct_50]\n",
    "dist = np.arange(len(FG_array))\n",
    "\n",
    "xticks = [\"20-29\", \"30-39\", \"40-49\", \"50+\"]\n",
    "bar_width = 0.35\n",
    "\n",
    "outdoor = plt.bar(dist, FG_array_out, bar_width, color='g', alpha=0.5, align=\"center\")\n",
    "indoor = plt.bar(dist + bar_width, FG_array_in, bar_width, color='r', alpha=0.5, align=\"center\")\n",
    "plt.xticks(np.arange(4), xticks)\n",
    "plt.title(\"Indoor versus Outdoor Kicking\")\n",
    "plt.xlabel(\"Kicking Distance (Yards)\")\n",
    "plt.ylabel(\"Percent Made\")\n",
    "plt.legend((indoor[0], outdoor[0]), ('Indoor', 'Outdoor'))\n",
    "plt.savefig('Kickingperformance2.png')\n",
    "plt.show()"
   ]
  },
  {
   "cell_type": "code",
   "execution_count": 20,
   "metadata": {},
   "outputs": [
    {
     "data": {
      "text/plain": [
       "Text(0,0.5,'Percent Made')"
      ]
     },
     "execution_count": 20,
     "metadata": {},
     "output_type": "execute_result"
    },
    {
     "data": {
      "image/png": "[encoded data removed]",
      "text/plain": [
       "<Figure size 432x288 with 1 Axes>"
      ]
     },
     "metadata": {
      "needs_background": "light"
     },
     "output_type": "display_data"
    }
   ],
   "source": []
  },
  {
   "cell_type": "code",
   "execution_count": null,
   "metadata": {},
   "outputs": [],
   "source": []
  }
 ],
 "metadata": {
  "kernelspec": {
   "display_name": "Python 3",
   "language": "python",
   "name": "python3"
  },
  "language_info": {
   "codemirror_mode": {
    "name": "ipython",
    "version": 3
   },
   "file_extension": ".py",
   "mimetype": "text/x-python",
   "name": "python",
   "nbconvert_exporter": "python",
   "pygments_lexer": "ipython3",
   "version": "3.7.0"
  }
 },
 "nbformat": 4,
 "nbformat_minor": 2
}
