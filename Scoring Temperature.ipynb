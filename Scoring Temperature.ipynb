{
 "cells": [
  {
   "cell_type": "code",
   "execution_count": 10,
   "metadata": {},
   "outputs": [],
   "source": [
    "# Importing libraries\n",
    "import numpy as np\n",
    "import matplotlib.pyplot as plt\n",
    "import pandas as pd\n",
    "import matplotlib.ticker as ticker\n",
    "\n",
    "# Importing datafile\n",
    "df = pd.read_csv(\"MasterDataframe.csv\")\n"
   ]
  },
  {
   "cell_type": "code",
   "execution_count": 11,
   "metadata": {},
   "outputs": [],
   "source": [
    "# Filter dataframes for outdoor vs indoor stadiums\n",
    "outdoor_df = df[df[\"Indoor\"] == False]\n",
    "indoor_df = df[df[\"Indoor\"] == True]"
   ]
  },
  {
   "cell_type": "code",
   "execution_count": 12,
   "metadata": {},
   "outputs": [],
   "source": [
    "# Renaming Total Points columns to Average as we will extract the mean for cooresponding stadiums types\n",
    "outdoor_df = outdoor_df.rename (columns= {'Total Points': 'Outdoor Average Points'})\n",
    "indoor_df = indoor_df.rename (columns= {'Total Points': 'Indoor Average Points'})"
   ]
  },
  {
   "cell_type": "code",
   "execution_count": 13,
   "metadata": {},
   "outputs": [
    {
     "data": {
      "text/plain": [
       "2       50 to 60 degrees\n",
       "6       60 to 70 degrees\n",
       "7       80 to 90 degrees\n",
       "12    100 to 110 degrees\n",
       "14      60 to 70 degrees\n",
       "17      70 to 80 degrees\n",
       "18     90 to 100 degrees\n",
       "30      80 to 90 degrees\n",
       "33      60 to 70 degrees\n",
       "38      80 to 90 degrees\n",
       "Name: Temp, dtype: category\n",
       "Categories (10, object): [0 to 20 degrees < 20 to 30 degrees < 30 to 40 degrees < 40 to 50 degrees ... 70 to 80 degrees < 80 to 90 degrees < 90 to 100 degrees < 100 to 110 degrees]"
      ]
     },
     "execution_count": 13,
     "metadata": {},
     "output_type": "execute_result"
    }
   ],
   "source": [
    "# Setting temperature bins and temperature labels\n",
    "bins = [0, 20, 30, 40, 50, 60, 70, 80, 90, 100, 110]\n",
    "outdoor_temp_labels = [\"0 to 20 degrees\", \"20 to 30 degrees\", \"30 to 40 degrees\", \"40 to 50 degrees\", \"50 to 60 degrees\",\n",
    "               \"60 to 70 degrees\", \"70 to 80 degrees\", \"80 to 90 degrees\", \"90 to 100 degrees\",\"100 to 110 degrees\"]\n",
    "indoor_temp_labels = [\"0 to 20 degrees\", \"20 to 30 degrees\", \"30 to 40 degrees\", \"40 to 50 degrees\", \"50 to 60 degrees\",\n",
    "               \"60 to 70 degrees\", \"70 to 80 degrees\", \"80 to 90 degrees\", \"90 to 100 degrees\",\"100 to 110 degrees\"]\n",
    "pd.cut(outdoor_df[\"Temp\"], bins, labels = outdoor_temp_labels).head(10)\n",
    "pd.cut(indoor_df[\"Temp\"], bins, labels = indoor_temp_labels).head(10)"
   ]
  },
  {
   "cell_type": "code",
   "execution_count": 14,
   "metadata": {},
   "outputs": [],
   "source": [
    "# Encountered a warning message from Python, did not apply for my usage so I disabled the warning.\n",
    "pd.options.mode.chained_assignment = None\n",
    "outdoor_df[\"Outdoor Temp Group\"] = pd.cut(outdoor_df[\"Temp\"], bins, labels = outdoor_temp_labels)\n",
    "indoor_df[\"Indoor Temp Group\"] = pd.cut(indoor_df[\"Temp\"], bins, labels = indoor_temp_labels)"
   ]
  },
  {
   "cell_type": "code",
   "execution_count": 15,
   "metadata": {},
   "outputs": [],
   "source": [
    "outdoor_score_group = outdoor_df.groupby(\"Outdoor Temp Group\")\n",
    "indoor_score_group = indoor_df.groupby(\"Indoor Temp Group\")"
   ]
  },
  {
   "cell_type": "code",
   "execution_count": 16,
   "metadata": {},
   "outputs": [],
   "source": [
    "# Gathered the sum of points based on temperature\n",
    "outdoor_score = (outdoor_score_group[\"Outdoor Average Points\"].mean())\n",
    "indoor_score = (indoor_score_group[\"Indoor Average Points\"].mean())"
   ]
  },
  {
   "cell_type": "code",
   "execution_count": 17,
   "metadata": {},
   "outputs": [
    {
     "data": {
      "image/png": "[encoded data removed]",
      "text/plain": [
       "<Figure size 432x288 with 1 Axes>"
      ]
     },
     "metadata": {
      "needs_background": "light"
     },
     "output_type": "display_data"
    }
   ],
   "source": [
    "# Merged outdoor and indoor data series and began graphing\n",
    "game_score = pd.concat([outdoor_score, indoor_score], axis=1)\n",
    "\n",
    "game_score.plot(kind=\"bar\")\n",
    "plt.title(\"Average Points based on Temperature\")\n",
    "plt.xlabel(\"Temperature\")\n",
    "plt.ylabel(\"Average Points\")\n",
    "plt.ylim(0, 100)\n",
    "plt.legend(bbox_to_anchor=(1, 1), loc=1, borderaxespad=0.1)\n",
    "plt.tight_layout()\n",
    "plt.savefig('Averagescoringperformance.png')\n",
    "plt.show()"
   ]
  },
  {
   "cell_type": "code",
   "execution_count": null,
   "metadata": {},
   "outputs": [],
   "source": []
  },
  {
   "cell_type": "code",
   "execution_count": null,
   "metadata": {},
   "outputs": [],
   "source": []
  },
  {
   "cell_type": "code",
   "execution_count": null,
   "metadata": {},
   "outputs": [],
   "source": []
  }
 ],
 "metadata": {
  "kernelspec": {
   "display_name": "Python 3",
   "language": "python",
   "name": "python3"
  },
  "language_info": {
   "codemirror_mode": {
    "name": "ipython",
    "version": 3
   },
   "file_extension": ".py",
   "mimetype": "text/x-python",
   "name": "python",
   "nbconvert_exporter": "python",
   "pygments_lexer": "ipython3",
   "version": "3.7.0"
  }
 },
 "nbformat": 4,
 "nbformat_minor": 2
}
